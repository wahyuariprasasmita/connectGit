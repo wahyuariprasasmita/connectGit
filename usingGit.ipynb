{
 "cells": [
  {
   "cell_type": "markdown",
   "metadata": {},
   "source": [
    "# How to connect Git\n",
    "Wahyu Ariprasasmita - Note"
   ]
  },
  {
   "cell_type": "markdown",
   "metadata": {},
   "source": [
    "### Clone repository\n",
    " - cd ... (tempat naruh file clone)\n",
    " - git clone ... (ambil https git yang mau di clone)\n",
    " - cd ... (copy path folder clone di local (folder sudah terclone))\n",
    "\n",
    " ### Cek status\n",
    " - git status ...\n",
    "\n",
    " ### Add / update file \n",
    " - git add .\n",
    " - git commit -m \"text\"\n",
    " - git push"
   ]
  },
  {
   "cell_type": "markdown",
   "metadata": {},
   "source": [
    "#### Git perlu SSH\n",
    "\n",
    "- Cek Developer Setting\n",
    "- Buat Token Klasik\n",
    "\n",
    "- https://levelup.gitconnected.com/fix-password-authentication-github-3395e579ce74\n",
    "- https://github.com/settings/tokens\n",
    "- https://www.inmotionhosting.com/support/server/ssh/how-to-add-ssh-keys-to-your-github-account/\n"
   ]
  }
 ],
 "metadata": {
  "kernelspec": {
   "display_name": "Python 3.9.6 64-bit",
   "language": "python",
   "name": "python3"
  },
  "language_info": {
   "name": "python",
   "version": "3.9.6"
  },
  "orig_nbformat": 4,
  "vscode": {
   "interpreter": {
    "hash": "31f2aee4e71d21fbe5cf8b01ff0e069b9275f58929596ceb00d14d90e3e16cd6"
   }
  }
 },
 "nbformat": 4,
 "nbformat_minor": 2
}
