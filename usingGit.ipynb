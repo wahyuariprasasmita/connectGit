{
 "cells": [
  {
   "cell_type": "markdown",
   "metadata": {},
   "source": [
    "# How to connect Git"
   ]
  },
  {
   "cell_type": "markdown",
   "metadata": {},
   "source": [
    "### Clone\n",
    " - cd ... (tempat naruh file clone)\n",
    " - git clone ... (ambil https git yang mau di clone)\n",
    " - cd ... (copy path folder clone di local (folder sudah terclone))\n",
    "\n",
    " ### Cek status\n",
    " - git status ...\n",
    "\n",
    " ### Add / update file\n",
    " - git add .\n",
    " - git commit -m \"text\"\n",
    " - git push"
   ]
  },
  {
   "cell_type": "markdown",
   "metadata": {},
   "source": [
    "#### Git perlu SSH\n",
    "\n",
    "- Cek Developer Setting\n",
    "- Buat Token Klasik\n",
    "\n",
    "- https://levelup.gitconnected.com/fix-password-authentication-github-3395e579ce74\n",
    "- https://github.com/settings/tokens\n",
    "- https://www.inmotionhosting.com/support/server/ssh/how-to-add-ssh-keys-to-your-github-account/\n"
   ]
  }
 ],
 "metadata": {
  "language_info": {
   "name": "python"
  },
  "orig_nbformat": 4
 },
 "nbformat": 4,
 "nbformat_minor": 2
}
